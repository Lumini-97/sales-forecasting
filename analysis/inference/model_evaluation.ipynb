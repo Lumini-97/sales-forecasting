{
 "cells": [
  {
   "cell_type": "code",
   "execution_count": 5,
   "metadata": {},
   "outputs": [],
   "source": [
    "import pandas as pd\n",
    "import numpy as np\n",
    "import yaml\n",
    "import pickle\n",
    "import warnings\n",
    "from statsmodels.tools.sm_exceptions import ValueWarning\n",
    "\n",
    "warnings.filterwarnings(\"ignore\", category=ValueWarning)\n",
    "warnings.filterwarnings(\"ignore\")"
   ]
  },
  {
   "cell_type": "code",
   "execution_count": 6,
   "metadata": {},
   "outputs": [],
   "source": [
    "def load_model(model_path):\n",
    "    with open(model_path, 'rb') as file:\n",
    "        model = pickle.load(file)\n",
    "        return model\n",
    "\n",
    "def load_config(config_path=r'C:\\Users\\MSI 11uc\\Documents\\ML\\CW\\Q5 Final\\Q5_sales_forecasting_final\\Q5_sales_forecasting\\config\\config.yaml'):\n",
    "    with open(config_path, 'r') as file:\n",
    "        return yaml.safe_load(file)\n",
    "\n",
    "config = load_config()\n",
    "df = pd.read_csv(config['data']['processed']['featured_test_data_output_path'])\n",
    "xgb_model = load_model(config['model_paths']['xgboost'])\n",
    "arima_models = load_model(config['model_paths']['arima'])\n",
    "lstm_model = load_model(config['model_paths']['lstm'])\n",
    "xgb_encoders = load_model(config['model_paths']['xgboost_encoders'])\n",
    "target_column = config['target_column']"
   ]
  },
  {
   "cell_type": "code",
   "execution_count": 7,
   "metadata": {},
   "outputs": [],
   "source": [
    "def evaluate_models_with_mape(df, xgb_model,label_encoders):\n",
    "    def calculate_mape(y_true, y_pred):\n",
    "        \"\"\"Calculate Mean Absolute Percentage Error (MAPE).\"\"\"\n",
    "        return np.mean(np.abs((y_true - y_pred) / y_true)) * 100\n",
    "\n",
    "    def evaluate_model(df, model, model_name, granularity):\n",
    "        mape_values = []\n",
    "        \n",
    "        if granularity == 'date_id | store | item_dept':\n",
    "            grouped = df.groupby(['store', 'item_dept', 'date_id'])\n",
    "        elif granularity == 'date_id | store':\n",
    "            grouped = df.groupby(['store', 'date_id'])\n",
    "        else:\n",
    "            raise ValueError(\"Unsupported granularity\")\n",
    "        \n",
    "        for name, group in grouped:\n",
    "            actual = group[target_column]\n",
    "            \n",
    "            if model_name == 'XGBoost':\n",
    "                # Ensure all features used in training are included\n",
    "                group_encoded = group.copy()\n",
    "                \n",
    "                # Encode categorical features using the label encoders\n",
    "                group_encoded['store'] = label_encoders['store'].transform(group_encoded['store'])\n",
    "                group_encoded['item_dept'] = label_encoders['item_dept'].transform(group_encoded['item_dept'])\n",
    "                group_encoded['profile'] = label_encoders['profile'].transform(group_encoded['profile'])\n",
    "                group_encoded['size'] = label_encoders['size'].transform(group_encoded['size'])\n",
    "\n",
    "                # Drop target and unnecessary columns\n",
    "                group_encoded = group_encoded.drop(columns=[target_column, 'date_id'])\n",
    "                pred = model.predict(group_encoded)\n",
    "                \n",
    "            mape = calculate_mape(actual, pred)\n",
    "            mape_values.append(mape)\n",
    "        \n",
    "        avg_mape = np.mean(mape_values)\n",
    "        print(f\"{model_name} MAPE ({granularity}): {avg_mape}%\")\n",
    "    \n",
    "    # Evaluate XGBoost\n",
    "    evaluate_model(df, xgb_model, 'XGBoost', 'date_id | store | item_dept')\n",
    "    evaluate_model(df, xgb_model, 'XGBoost', 'date_id | store')"
   ]
  },
  {
   "cell_type": "code",
   "execution_count": 8,
   "metadata": {},
   "outputs": [
    {
     "name": "stdout",
     "output_type": "stream",
     "text": [
      "XGBoost MAPE (date_id | store | item_dept): 13.490848014621909%\n",
      "XGBoost MAPE (date_id | store): 13.490848014621912%\n"
     ]
    }
   ],
   "source": [
    "evaluate_models_with_mape(df, xgb_model, xgb_encoders)"
   ]
  },
  {
   "cell_type": "markdown",
   "metadata": {},
   "source": [
    "<div style=\"font-family: Arial, sans-serif; font-size: 14px; line-height: 1.6;\">\n",
    "    <h3>XGBoost Mean Absolute Percentage Error (MAPE)</h3>\n",
    "    <ul>\n",
    "        <li><strong>date_id | store | item_dept:</strong> 13.490848014621909%</li>\n",
    "        <li><strong>date_id | store:</strong> 13.490848014621912%</li>\n",
    "    </ul>\n",
    "</div>\n"
   ]
  }
 ],
 "metadata": {
  "kernelspec": {
   "display_name": "7072",
   "language": "python",
   "name": "python3"
  },
  "language_info": {
   "codemirror_mode": {
    "name": "ipython",
    "version": 3
   },
   "file_extension": ".py",
   "mimetype": "text/x-python",
   "name": "python",
   "nbconvert_exporter": "python",
   "pygments_lexer": "ipython3",
   "version": "3.10.9"
  }
 },
 "nbformat": 4,
 "nbformat_minor": 2
}
