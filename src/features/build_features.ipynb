{
 "cells": [
  {
   "cell_type": "code",
   "execution_count": 5,
   "metadata": {},
   "outputs": [],
   "source": [
    "import pandas as pd\n",
    "import  yaml\n",
    "import warnings\n",
    "import holidays\n",
    "from datetime import date\n",
    "\n",
    "warnings.filterwarnings(\"ignore\")"
   ]
  },
  {
   "cell_type": "code",
   "execution_count": 6,
   "metadata": {},
   "outputs": [],
   "source": [
    "def load_config(config_path=r'D:\\Lumini\\NIB7072\\Q5_sales_forecasting\\Q5_sales_forecasting\\config\\config.yaml'):\n",
    "    with open(config_path, 'r') as file:\n",
    "        return yaml.safe_load(file)\n",
    "config = load_config()\n",
    "train_data_path = config['data']['processed']['processed_train_data_path']"
   ]
  },
  {
   "cell_type": "markdown",
   "metadata": {},
   "source": [
    "### Sales Related Features\n"
   ]
  },
  {
   "cell_type": "code",
   "execution_count": 7,
   "metadata": {},
   "outputs": [],
   "source": [
    "grouped_df = pd.read_csv(train_data_path)"
   ]
  },
  {
   "cell_type": "code",
   "execution_count": 8,
   "metadata": {},
   "outputs": [],
   "source": [
    "# Rolling averages (e.g., 7-day rolling average)\n",
    "grouped_df['rolling_avg_7d'] = grouped_df.groupby(['store', 'item_dept'])['daily_sales_qty'].transform(lambda x: x.rolling(window=7, min_periods=1).mean())\n",
    "\n",
    "# Cumulative sales\n",
    "grouped_df['cumulative_sales'] = grouped_df.groupby(['store', 'item_dept'])['daily_sales_qty'].cumsum()\n",
    "\n",
    "# Lag features (e.g., sales of the previous day)\n",
    "grouped_df['lag_1d'] = grouped_df.groupby(['store', 'item_dept'])['daily_sales_qty'].shift(1)\n",
    "\n",
    "# Fill NaN values resulting from the shift with 0\n",
    "grouped_df['lag_1d'].fillna(0, inplace=True)"
   ]
  },
  {
   "cell_type": "code",
   "execution_count": 9,
   "metadata": {},
   "outputs": [
    {
     "data": {
      "text/html": [
       "<div>\n",
       "<style scoped>\n",
       "    .dataframe tbody tr th:only-of-type {\n",
       "        vertical-align: middle;\n",
       "    }\n",
       "\n",
       "    .dataframe tbody tr th {\n",
       "        vertical-align: top;\n",
       "    }\n",
       "\n",
       "    .dataframe thead th {\n",
       "        text-align: right;\n",
       "    }\n",
       "</style>\n",
       "<table border=\"1\" class=\"dataframe\">\n",
       "  <thead>\n",
       "    <tr style=\"text-align: right;\">\n",
       "      <th></th>\n",
       "      <th>store</th>\n",
       "      <th>item_dept</th>\n",
       "      <th>date_id</th>\n",
       "      <th>daily_sales_qty</th>\n",
       "      <th>rolling_avg_7d</th>\n",
       "      <th>cumulative_sales</th>\n",
       "      <th>lag_1d</th>\n",
       "    </tr>\n",
       "  </thead>\n",
       "  <tbody>\n",
       "    <tr>\n",
       "      <th>547</th>\n",
       "      <td>ABC</td>\n",
       "      <td>Grocery</td>\n",
       "      <td>12/9/2021</td>\n",
       "      <td>2314.716</td>\n",
       "      <td>2658.681571</td>\n",
       "      <td>237354.228</td>\n",
       "      <td>2345.361</td>\n",
       "    </tr>\n",
       "    <tr>\n",
       "      <th>548</th>\n",
       "      <td>ABC</td>\n",
       "      <td>Household</td>\n",
       "      <td>12/9/2021</td>\n",
       "      <td>1006.000</td>\n",
       "      <td>1126.857143</td>\n",
       "      <td>95916.000</td>\n",
       "      <td>981.000</td>\n",
       "    </tr>\n",
       "    <tr>\n",
       "      <th>549</th>\n",
       "      <td>XYZ</td>\n",
       "      <td>Beverages</td>\n",
       "      <td>12/9/2021</td>\n",
       "      <td>1104.000</td>\n",
       "      <td>1166.285714</td>\n",
       "      <td>93289.000</td>\n",
       "      <td>1102.000</td>\n",
       "    </tr>\n",
       "    <tr>\n",
       "      <th>550</th>\n",
       "      <td>XYZ</td>\n",
       "      <td>Grocery</td>\n",
       "      <td>12/9/2021</td>\n",
       "      <td>3216.296</td>\n",
       "      <td>3652.661714</td>\n",
       "      <td>308569.011</td>\n",
       "      <td>2845.032</td>\n",
       "    </tr>\n",
       "    <tr>\n",
       "      <th>551</th>\n",
       "      <td>XYZ</td>\n",
       "      <td>Household</td>\n",
       "      <td>12/9/2021</td>\n",
       "      <td>1049.000</td>\n",
       "      <td>1169.428571</td>\n",
       "      <td>101559.000</td>\n",
       "      <td>848.000</td>\n",
       "    </tr>\n",
       "  </tbody>\n",
       "</table>\n",
       "</div>"
      ],
      "text/plain": [
       "    store  item_dept    date_id  daily_sales_qty  rolling_avg_7d  \\\n",
       "547   ABC    Grocery  12/9/2021         2314.716     2658.681571   \n",
       "548   ABC  Household  12/9/2021         1006.000     1126.857143   \n",
       "549   XYZ  Beverages  12/9/2021         1104.000     1166.285714   \n",
       "550   XYZ    Grocery  12/9/2021         3216.296     3652.661714   \n",
       "551   XYZ  Household  12/9/2021         1049.000     1169.428571   \n",
       "\n",
       "     cumulative_sales    lag_1d  \n",
       "547        237354.228  2345.361  \n",
       "548         95916.000   981.000  \n",
       "549         93289.000  1102.000  \n",
       "550        308569.011  2845.032  \n",
       "551        101559.000   848.000  "
      ]
     },
     "execution_count": 9,
     "metadata": {},
     "output_type": "execute_result"
    }
   ],
   "source": [
    "grouped_df.tail()"
   ]
  },
  {
   "cell_type": "code",
   "execution_count": 10,
   "metadata": {},
   "outputs": [],
   "source": [
    "grouped_df['date_id'] = pd.to_datetime(grouped_df['date_id'])"
   ]
  },
  {
   "cell_type": "code",
   "execution_count": 11,
   "metadata": {},
   "outputs": [],
   "source": [
    "def is_holiday(date):\n",
    "    uk_holidays = holidays.UnitedKingdom()\n",
    "    is_holiday = date in uk_holidays\n",
    "    if is_holiday:\n",
    "        return 1\n",
    "    else:\n",
    "        return 0"
   ]
  },
  {
   "cell_type": "code",
   "execution_count": null,
   "metadata": {},
   "outputs": [],
   "source": []
  },
  {
   "cell_type": "code",
   "execution_count": 12,
   "metadata": {},
   "outputs": [],
   "source": [
    "### # Day of the week\n",
    "grouped_df['day_of_week'] = grouped_df['date_id'].dt.dayofweek\n",
    "\n",
    "# Month\n",
    "grouped_df['month'] = grouped_df['date_id'].dt.month\n",
    "\n",
    "# Check if the date is a holiday \n",
    "grouped_df['is_holiday'] = grouped_df['date_id'].apply(is_holiday)\n",
    "\n",
    "# grouped_df['is_holiday'] = grouped_df['date_id'].isin(pd.to_datetime(holidays)).astype(int)\n"
   ]
  },
  {
   "cell_type": "markdown",
   "metadata": {},
   "source": [
    "### Outlet-Related Features"
   ]
  },
  {
   "cell_type": "code",
   "execution_count": 15,
   "metadata": {},
   "outputs": [],
   "source": [
    "outlet_features = pd.read_csv(r'D:\\Lumini\\NIB7072\\Q5_sales_forecasting\\Q5_sales_forecasting\\data\\raw\\outlet_info.csv')\n",
    "\n",
    "# Merge the outlet-related features with the sales data\n",
    "grouped_df = pd.merge(grouped_df, outlet_features, on='store', how='left')\n"
   ]
  },
  {
   "cell_type": "code",
   "execution_count": null,
   "metadata": {},
   "outputs": [],
   "source": []
  },
  {
   "cell_type": "code",
   "execution_count": null,
   "metadata": {},
   "outputs": [],
   "source": []
  }
 ],
 "metadata": {
  "kernelspec": {
   "display_name": "7072",
   "language": "python",
   "name": "python3"
  },
  "language_info": {
   "codemirror_mode": {
    "name": "ipython",
    "version": 3
   },
   "file_extension": ".py",
   "mimetype": "text/x-python",
   "name": "python",
   "nbconvert_exporter": "python",
   "pygments_lexer": "ipython3",
   "version": "3.11.9"
  }
 },
 "nbformat": 4,
 "nbformat_minor": 2
}
